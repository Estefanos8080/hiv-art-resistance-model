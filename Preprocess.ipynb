{
 "cells": [
  {
   "cell_type": "code",
   "execution_count": 1,
   "metadata": {},
   "outputs": [],
   "source": [
    "# Import necessary libraries\n",
    "import pandas as pd\n",
    "import numpy as np"
   ]
  },
  {
   "cell_type": "code",
   "execution_count": 15,
   "metadata": {},
   "outputs": [],
   "source": [
    "# Load the dataset\n",
    "data = pd.read_csv(\"/Users/estefanos/Desktop/Autoencoder_Grpoup2Project/HIV_ML_ART/NRTI_stanford.csv\")\n",
    "\n",
    "# Rename the first column to \"SeqID\"\n",
    "data.rename(columns={data.columns[0]: \"SeqID\"}, inplace=True)\n",
    "\n",
    "# Identify rows with missing values (represented by \".\" or NaN)\n",
    "missing_vals = set()\n",
    "for i in range(len(data)):\n",
    "    for j in range(9, len(data.columns)):  # Columns 10 and onwards (0-indexed in Python)\n",
    "        if data.iloc[i, j] == \".\" or pd.isna(data.iloc[i, j]):\n",
    "            missing_vals.add(data.iloc[i, 0])  # Add SeqID to the set of missing values\n",
    "\n",
    "# Remove rows with missing values\n",
    "data_new = data[~data[\"SeqID\"].isin(missing_vals)].copy()"
   ]
  },
  {
   "cell_type": "code",
   "execution_count": null,
   "metadata": {},
   "outputs": [],
   "source": [
    "data_new.head()"
   ]
  },
  {
   "cell_type": "markdown",
   "metadata": {},
   "source": [
    "### Separate data by drugs"
   ]
  },
  {
   "cell_type": "code",
   "execution_count": 24,
   "metadata": {},
   "outputs": [],
   "source": [
    "# Create separate DataFrames for each drug, excluding rows where the drug column is NaN\n",
    "ttc = data_new[data_new[\"3TC\"].notna()].copy()  # 3TC\n",
    "abc = data_new[data_new[\"ABC\"].notna()].copy()  # ABC\n",
    "azt = data_new[data_new[\"AZT\"].notna()].copy()  # AZT\n",
    "dft = data_new[data_new[\"D4T\"].notna()].copy()  # D4T (renamed to dft)\n",
    "ddi = data_new[data_new[\"DDI\"].notna()].copy()  # DDI\n",
    "tdf = data_new[data_new[\"TDF\"].notna()].copy()  # TDF"
   ]
  },
  {
   "cell_type": "code",
   "execution_count": null,
   "metadata": {},
   "outputs": [],
   "source": [
    "ttc.head()"
   ]
  },
  {
   "cell_type": "markdown",
   "metadata": {},
   "source": [
    "### Remove columns for other drugs"
   ]
  },
  {
   "cell_type": "code",
   "execution_count": 26,
   "metadata": {},
   "outputs": [],
   "source": [
    "# For each drug-specific DataFrame, drop the columns that are not needed\n",
    "\n",
    "# 3TC: Keep SeqID and X3TC columns (drop columns 3 to 7, 0-indexed in Python)\n",
    "ttc = ttc.drop(ttc.columns[2:7], axis=1)  # Columns 2 to 6 (0-indexed)\n",
    "\n",
    "# ABC: Keep SeqID and ABC columns (drop columns 2, 4 to 7)\n",
    "abc = abc.drop(abc.columns[[1, 3, 4, 5, 6]], axis=1)  # Columns 1, 3, 4, 5, 6\n",
    "\n",
    "# AZT: Keep SeqID and AZT columns (drop columns 2:3, 5:7)\n",
    "azt = azt.drop(azt.columns[[1, 2, 4, 5, 6]], axis=1)  # Columns 1, 2, 4, 5, 6\n",
    "\n",
    "# D4T: Keep SeqID and D4T columns (drop columns 2:4, 6:7)\n",
    "dft = dft.drop(dft.columns[[1, 2, 3, 5, 6]], axis=1)  # Columns 1, 2, 3, 5, 6\n",
    "\n",
    "# DDI: Keep SeqID and DDI columns (drop columns 2:5, 7)\n",
    "ddi = ddi.drop(ddi.columns[[1, 2, 3, 4, 6]], axis=1)  # Columns 1, 2, 3, 4, 6\n",
    "\n",
    "# TDF: Keep SeqID and TDF columns (drop columns 2:6)\n",
    "tdf = tdf.drop(tdf.columns[1:6], axis=1)  # Columns 1 to 5 (0-indexed)"
   ]
  },
  {
   "cell_type": "code",
   "execution_count": null,
   "metadata": {},
   "outputs": [],
   "source": [
    "ttc.head()"
   ]
  },
  {
   "cell_type": "markdown",
   "metadata": {},
   "source": [
    "### Assign resistance classification"
   ]
  },
  {
   "cell_type": "code",
   "execution_count": 28,
   "metadata": {},
   "outputs": [],
   "source": [
    "# Cutoff = 3.5: 1 = resistant, 0 = not resistant\n",
    "def assign_resistance(df, drug_col):\n",
    "    res_vals = []\n",
    "    for i in range(len(df)):\n",
    "        if df.iloc[i, 1] >= 3.5:\n",
    "            res = 1\n",
    "        else:\n",
    "            res = 0\n",
    "        res_vals.append(res)\n",
    "    df[\"resistance\"] = res_vals\n",
    "    return df"
   ]
  },
  {
   "cell_type": "code",
   "execution_count": 29,
   "metadata": {},
   "outputs": [],
   "source": [
    "# Apply the resistance classification function to each drug DataFrame\n",
    "ttc = assign_resistance(ttc, \"3TC\")"
   ]
  },
  {
   "cell_type": "code",
   "execution_count": null,
   "metadata": {},
   "outputs": [],
   "source": [
    "ttc.head()"
   ]
  },
  {
   "cell_type": "code",
   "execution_count": 32,
   "metadata": {},
   "outputs": [],
   "source": [
    "ttc.to_csv(\"ttc_cleaned.csv\", index=False)"
   ]
  },
  {
   "cell_type": "code",
   "execution_count": 35,
   "metadata": {},
   "outputs": [],
   "source": [
    "def create_fasta_RT(data, res_vals, filename):\n",
    "    # Define the normal RT sequence, or this is th refernce for NRTI\n",
    "    RT_norm = \"PISPIETVPVKLKPGMDGPKVKQWPLTEEKIKALVEICTEMEKEGKISKIGPENPYNTPVFAIKKKDSTKWRKLVDFRELNKRTQDFWEVQLGIPHPAGLKKKKSVTVLDVGDAYFSVPLDKDFRKYTAFTIPSINNETPGIRYQYNVLPQGWKGSPAIFQSSMTKILEPFRKQNPDIVIYQYMDDLYVGSDLEIGQHRTKIEELRQHLLRWGFTTPDKKHQKEPPFLWMGYELHPDKWT\"\n",
    "    \n",
    "    flagged = []  # To store SeqIDs with flagged sequences\n",
    "    flag = False  # Flag to indicate if a sequence was modified\n",
    "    \n",
    "    with open(filename, \"w\") as f:\n",
    "        for i in range(len(data)):\n",
    "            # Create the sequence name using SeqID and resistance value\n",
    "            name = f\"{data.iloc[i, 0]}_{res_vals.iloc[i]}\"  # Use .iloc to access by integer position\n",
    "            seq = RT_norm  # Start with the normal RT sequence\n",
    "            \n",
    "            # Iterate over the sequence positions (columns 3 to 242 in the data)\n",
    "            for j in range(240):  # 240 positions in the RT sequence\n",
    "                x = data.iloc[i, j + 2]  # Get the mutation at position j\n",
    "                \n",
    "                # If the mutation has more than one character, take the first character\n",
    "                if isinstance(x, str) and len(x) > 1:\n",
    "                    x = x[0]  # Take the first character\n",
    "                    flag = True  # Set the flag to True\n",
    "                \n",
    "                # If the mutation is not '-', replace the corresponding position in the sequence\n",
    "                if x != '-':\n",
    "                    seq = seq[:j] + x + seq[j+1:]\n",
    "            \n",
    "            # Write the sequence name and sequence to the file\n",
    "            f.write(f\">{name}\\n\")\n",
    "            f.write(f\"{seq}\\n\")\n",
    "            \n",
    "            # If the flag was set, add the SeqID to the flagged list\n",
    "            if flag:\n",
    "                flagged.append(data.iloc[i, 0])\n",
    "                flag = False  # Reset the flag for the next sequence\n",
    "    \n",
    "    print(f\"FASTA file saved to {filename}\")\n",
    "    print(f\"Flagged SeqIDs: {flagged}\")"
   ]
  },
  {
   "cell_type": "code",
   "execution_count": 1,
   "metadata": {},
   "outputs": [],
   "source": [
    "def create_fasta_PI(data, res_vals, filename):\n",
    "    # Define the normal PI sequence\n",
    "    PI_norm = \"PQITLWQRPLVTIKIGGQLKEALLDTGADDTVLEEMNLPGRWKPKMIGGIGGFIKVRQYDQILIEICGHKAIGTVLVGPTPVNIIGRNLLTQIGCTLNF\"\n",
    "    \n",
    "    flagged = []  # To store SeqIDs with flagged sequences\n",
    "    flag = False  # Flag to indicate if a sequence was modified\n",
    "    \n",
    "    with open(filename, \"w\") as f:\n",
    "        for i in range(len(data)):\n",
    "            # Create the sequence name using SeqID and resistance value\n",
    "            name = f\"{data.iloc[i, 0]}_{res_vals.iloc[i]}\"  # Use .iloc to access by integer position\n",
    "            seq = PI_norm  # Start with the normal PI sequence\n",
    "            \n",
    "            # Iterate over the sequence positions (columns 3 to 101 in the data)\n",
    "            for j in range(99):  # 99 positions in the PI sequence\n",
    "                x = data.iloc[i, j + 2]  # Get the mutation at position j\n",
    "                \n",
    "                # If the mutation has more than one character, take the first character\n",
    "                if isinstance(x, str) and len(x) > 1:\n",
    "                    x = x[0]  # Take the first character\n",
    "                    flag = True  # Set the flag to True\n",
    "                \n",
    "                # If the mutation is not '-', replace the corresponding position in the sequence\n",
    "                if x != '-':\n",
    "                    seq = seq[:j] + x + seq[j+1:]\n",
    "            \n",
    "            # Write the sequence name and sequence to the file\n",
    "            f.write(f\">{name}\\n\")\n",
    "            f.write(f\"{seq}\\n\")\n",
    "            \n",
    "            # If the flag was set, add the SeqID to the flagged list\n",
    "            if flag:\n",
    "                flagged.append(data.iloc[i, 0])\n",
    "                flag = False  # Reset the flag for the next sequence\n",
    "    \n",
    "    print(f\"FASTA file saved to {filename}\")\n",
    "    print(f\"Flagged SeqIDs: {flagged}\")"
   ]
  },
  {
   "cell_type": "code",
   "execution_count": 36,
   "metadata": {},
   "outputs": [
    {
     "name": "stdout",
     "output_type": "stream",
     "text": [
      "FASTA file saved to ttc.fasta\n",
      "Flagged SeqIDs: [2997, 4427, 4487, 4663, 4697, 5222, 5280, 5465, 5641, 6519, 6540, 6569, 6859, 7328, 7364, 7377, 7381, 7878, 7888, 7913, 7969, 8044, 8379, 8612, 9342, 9415, 9632, 9650, 9988, 10011, 10126, 10157, 10492, 10496, 10586, 10722, 10723, 11150, 11338, 11501, 11845, 11849, 12270, 12293, 12503, 12528, 12531, 12552, 12929, 14669, 14720, 15633, 16243, 16271, 26028, 26030, 26060, 26072, 26206, 26212, 26469, 26473, 26506, 27618, 27723, 27744, 27749, 28210, 28211, 28214, 28233, 28234, 28236, 28238, 28241, 28242, 28243, 28244, 28247, 38707, 38711, 38719, 38721, 38729, 38741, 38747, 38753, 38755, 38757, 38763, 38765, 38767, 38771, 38773, 38781, 38787, 38791, 38805, 38807, 38821, 38825, 38851, 38853, 38859, 38865, 38871, 38873, 38881, 38883, 38885, 38899, 38907, 38909, 38925, 38927, 39949, 39959, 39977, 40011, 40166, 40381, 40447, 40507, 40525, 40594, 41011, 41031, 41121, 41125, 41211, 41280, 41342, 41466, 41546, 41596, 41677, 41769, 41797, 41809, 44043, 44049, 44053, 44063, 44069, 44077, 44081, 44083, 44085, 44087, 44089, 44091, 44097, 44099, 44103, 44109, 44111, 46680, 46686, 46690, 46692, 46696, 46698, 46700, 46702, 46708, 50512, 50514, 51630, 51657, 51682, 51819, 51864, 51884, 51940, 52034, 52094, 52114, 52285, 52334, 52371, 52556, 52557, 52588, 52589, 52894, 52906, 52910, 52916, 55753, 55838, 55848, 55890, 55900, 55929, 55939, 55949, 55988, 56023, 56091, 56097, 56111, 56143, 56151, 56171, 56205, 56221, 56249, 56283, 56287, 56339, 56345, 56379, 56495, 56577, 56595, 56965, 56975, 57001, 58893, 58895, 59259, 59261, 59263, 59265, 59313, 59355, 60087, 60089, 60097, 60099, 60101, 60103, 60109, 60113, 60115, 60117, 60640, 60642, 60646, 60758, 60958, 61046, 61090, 61092, 61094, 61096, 61098, 61100, 61108, 61110, 61116, 61118, 61120, 61124, 61130, 61132, 61134, 61136, 61138, 61140, 61142, 61144, 61146, 61148, 61150, 61152, 61156, 61162, 66239, 66267, 66313, 66815, 66817, 66818, 66819, 66821, 66822, 66823, 66824, 66827, 66828, 66829, 66830, 66833, 66834, 66835, 68134, 68138, 68979, 69029, 69215, 74885, 74889, 74895, 74925, 74939, 74943, 74951, 74963, 74969, 74977, 74981, 74991, 75033, 75035, 75043, 75047, 75049, 75057, 75059, 75063, 75067, 75069, 75071, 75073, 75075, 75079, 75091, 75093, 75099, 75105, 75107, 75111, 75119, 75121, 75123, 75133, 75135, 75737, 75739, 75791, 77322, 77372, 77380, 77418, 77712, 78857, 79041, 79371, 79459, 80985, 80987, 80991, 80993, 80995, 80999, 81003, 81005, 81009, 81011, 81013, 81015, 81017, 81874, 81876, 81884, 81886, 81888, 81890, 81892, 81896, 81900, 81902, 81906, 81908, 81910, 81912, 81914, 81916, 81922, 81924, 81926, 81928, 81940, 81942, 81948, 82066, 82136, 82152, 82398, 86643, 86651, 86677, 86691, 86743, 86891, 86993, 87123, 87163, 89035, 89039, 89053, 89961, 89963, 89965, 89983, 89985, 89993, 90003, 90009, 90023, 90029, 90035, 97951, 97969, 97983, 98021, 98115, 103050, 103058, 103068, 103100, 103784, 105309, 105311, 105313, 105315, 105317, 105319, 107980, 107982, 107984, 107990, 108904, 109158, 109395, 109397, 109399, 109409, 109411, 109413, 109415, 109417, 109419, 109421, 109423, 109427, 109429, 109435, 109441, 109443, 109445, 109447, 109449, 109451, 109453, 109455, 109457, 109461, 109463, 109465, 109467, 109473, 109475, 109479, 109481, 109483, 113047, 113051, 113053, 113055, 113059, 113061, 113063, 113191, 113193, 115056, 115060, 115066, 115068, 115070, 115072, 115076, 115742, 115746, 115748, 115750, 115752, 115754, 115777, 115895, 115923, 116486, 116490, 116498, 116500, 116502, 116504, 116508, 116510, 116514, 116518, 116520, 116522, 116526, 116528, 116911, 116917, 116919, 116923, 116996, 116998, 117006, 117012, 117014, 117018, 117020, 117024, 117026, 117028, 117032, 117040, 117048, 117052, 117054, 117058, 117060, 117070, 117072, 117074, 117080, 117084, 117086, 117088, 117090, 117094, 117096, 117098, 117108, 117110, 117112, 117116, 117122, 117124, 117126, 123034, 123038, 123042, 123044, 123046, 123050, 143327, 143329, 143331, 143333, 143337, 143339, 143343, 143347, 143359, 143470, 144046, 144070, 144186, 145193, 145195, 145199, 145205, 145207, 145209, 145678, 145680, 145684, 145686, 145688, 145690, 145692, 145694, 145698, 145700, 145708, 146165, 146975, 147974, 147978, 147980, 147984, 147986, 147994, 147998, 148000, 148002, 148004, 148008, 148010, 148018, 148022, 148024, 148026, 148028, 148032, 148034, 148036, 148042, 148044, 148046, 148048, 148054, 148058, 148066, 148068, 148070, 148072, 148076, 148078, 148080, 148084, 148088, 148092, 148094, 148096, 148098, 148100, 148104, 148106, 148108, 148110, 148116, 148118, 148130, 148132, 155129, 155157, 159107, 159111, 159113, 172115, 172119, 172121, 172123, 172125, 172129, 172131, 172133, 172137, 173551, 183476, 183668, 183680, 183720, 183734, 187116, 187124, 187126, 187130, 187132, 187138, 187140, 187142, 187144, 187146, 187148, 187150, 187156, 187158, 187160, 187162, 187164, 187166, 187168, 187172, 187174, 187176, 187178, 187182, 187192, 187194, 187196, 192064, 197097, 205592, 205594, 205600, 205604, 205606, 205608, 205613, 205614, 205617, 205618, 205619, 205620, 205621, 205629, 205633, 205635, 205637, 205666, 205667, 205668, 205669, 205670, 205671, 205672, 205673, 206408, 206414, 206416, 206418, 206424, 206426, 206438, 206440, 206444, 206446, 206448, 206452, 207294, 207300, 207302, 207304, 207306, 207308, 213422, 216588, 216594, 216596, 216598, 216600, 216604, 216606, 216608, 216610, 216612, 216614, 216618, 216622, 216626, 216630, 216638, 216640, 216642, 216644, 216646, 216650, 216654, 216656, 216660, 216664, 216668, 235686, 235688, 235692, 235696, 235698, 235700, 235702, 235704, 235708, 235710, 235718, 235726, 235732, 235734, 235736, 235738, 257928, 257930, 257932, 257936, 257938, 257940, 257942, 257944, 257946, 257952, 257954, 257956, 257958, 257960, 257962, 257964, 257966, 258504, 258506, 258508, 259176, 259180, 259184, 259186, 259190, 259192, 259196, 259200, 259202, 259204, 259208, 259210, 259212, 259214, 259216, 259222, 259224, 259226, 259234, 259238, 259242, 259246, 259248, 259250, 259252, 259256, 259260, 259262, 259266, 259268]\n"
     ]
    }
   ],
   "source": [
    "create_fasta_RT(ttc, ttc[\"resistance\"], \"ttc.fasta\")"
   ]
  },
  {
   "cell_type": "markdown",
   "metadata": {},
   "source": [
    "The flagged sequences in  refer to sequences where a mutation (in the NRTI sequence) has more than one character. Example: AC\" becomes \"A\" or \"AC\" or \"GT\"."
   ]
  }
 ],
 "metadata": {
  "kernelspec": {
   "display_name": "bioenv",
   "language": "python",
   "name": "python3"
  },
  "language_info": {
   "codemirror_mode": {
    "name": "ipython",
    "version": 3
   },
   "file_extension": ".py",
   "mimetype": "text/x-python",
   "name": "python",
   "nbconvert_exporter": "python",
   "pygments_lexer": "ipython3",
   "version": "3.8.19"
  }
 },
 "nbformat": 4,
 "nbformat_minor": 2
}
